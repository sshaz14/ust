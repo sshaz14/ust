{
 "cells": [
  {
   "cell_type": "code",
   "execution_count": 101,
   "id": "00aecfdf",
   "metadata": {},
   "outputs": [
    {
     "ename": "NameError",
     "evalue": "name 'read_csv' is not defined",
     "output_type": "error",
     "traceback": [
      "\u001b[1;31m---------------------------------------------------------------------------\u001b[0m",
      "\u001b[1;31mNameError\u001b[0m                                 Traceback (most recent call last)",
      "\u001b[1;32m~\\AppData\\Local\\Temp/ipykernel_14392/1142390379.py\u001b[0m in \u001b[0;36m<module>\u001b[1;34m\u001b[0m\n\u001b[0;32m     27\u001b[0m     \u001b[0mcollection\u001b[0m \u001b[1;33m=\u001b[0m \u001b[0mdb\u001b[0m\u001b[1;33m[\u001b[0m\u001b[1;34m'flights'\u001b[0m\u001b[1;33m]\u001b[0m\u001b[1;33m\u001b[0m\u001b[1;33m\u001b[0m\u001b[0m\n\u001b[0;32m     28\u001b[0m     \u001b[1;31m# Import dataframe to mongodb documents\u001b[0m\u001b[1;33m\u001b[0m\u001b[1;33m\u001b[0m\u001b[0m\n\u001b[1;32m---> 29\u001b[1;33m     \u001b[0mmongoimport\u001b[0m\u001b[1;33m(\u001b[0m\u001b[1;34m'Flights_Delay.csv'\u001b[0m\u001b[1;33m)\u001b[0m\u001b[1;33m\u001b[0m\u001b[1;33m\u001b[0m\u001b[0m\n\u001b[0m",
      "\u001b[1;32m~\\AppData\\Local\\Temp/ipykernel_14392/1142390379.py\u001b[0m in \u001b[0;36mmongoimport\u001b[1;34m(csv_path)\u001b[0m\n\u001b[0;32m     16\u001b[0m     \u001b[0mcollection\u001b[0m\u001b[1;33m.\u001b[0m\u001b[0minsert_many\u001b[0m\u001b[1;33m(\u001b[0m\u001b[0mairDelay\u001b[0m\u001b[1;33m)\u001b[0m\u001b[1;33m\u001b[0m\u001b[1;33m\u001b[0m\u001b[0m\n\u001b[0;32m     17\u001b[0m \u001b[1;33m\u001b[0m\u001b[0m\n\u001b[1;32m---> 18\u001b[1;33m     \u001b[0mseries\u001b[0m \u001b[1;33m=\u001b[0m \u001b[0mread_csv\u001b[0m\u001b[1;33m(\u001b[0m\u001b[1;34m'Flights_Delay.csv'\u001b[0m\u001b[1;33m,\u001b[0m \u001b[0mheader\u001b[0m\u001b[1;33m=\u001b[0m\u001b[1;36m0\u001b[0m\u001b[1;33m,\u001b[0m \u001b[0mindex_col\u001b[0m\u001b[1;33m=\u001b[0m\u001b[1;36m0\u001b[0m\u001b[1;33m,\u001b[0m \u001b[0mparse_dates\u001b[0m\u001b[1;33m=\u001b[0m\u001b[1;32mTrue\u001b[0m\u001b[1;33m,\u001b[0m \u001b[0msqueeze\u001b[0m\u001b[1;33m=\u001b[0m\u001b[1;32mTrue\u001b[0m\u001b[1;33m)\u001b[0m\u001b[1;33m\u001b[0m\u001b[1;33m\u001b[0m\u001b[0m\n\u001b[0m\u001b[0;32m     19\u001b[0m     \u001b[0mseries\u001b[0m\u001b[1;33m.\u001b[0m\u001b[0mplot\u001b[0m\u001b[1;33m(\u001b[0m\u001b[1;33m)\u001b[0m\u001b[1;33m\u001b[0m\u001b[1;33m\u001b[0m\u001b[0m\n\u001b[0;32m     20\u001b[0m     \u001b[0mplt\u001b[0m\u001b[1;33m.\u001b[0m\u001b[0mshow\u001b[0m\u001b[1;33m(\u001b[0m\u001b[1;33m)\u001b[0m\u001b[1;33m\u001b[0m\u001b[1;33m\u001b[0m\u001b[0m\n",
      "\u001b[1;31mNameError\u001b[0m: name 'read_csv' is not defined"
     ]
    }
   ],
   "source": [
    "from xml.dom.minidom import Document\n",
    "from pymongo import MongoClient\n",
    "import pandas as pd\n",
    "import json\n",
    "import numpy as np\n",
    "import matplotlib.pyplot as plt\n",
    "import seaborn as sns\n",
    "import warnings\n",
    "warnings.filterwarnings('ignore')\n",
    "\n",
    "\n",
    "def mongoimport(csv_path):\n",
    "    # Documents - Data in MongoDB is called as Documents\n",
    "    AL_df = pd.read_csv(csv_path)\n",
    "    airDelay = json.loads(AL_df.to_json(orient = 'records'))\n",
    "    collection.insert_many(airDelay)\n",
    "    \n",
    "    series = read_csv('Flights_Delay.csv', header=0, index_col=0, parse_dates=True, squeeze=True)\n",
    "    series.plot()\n",
    "    plt.show()\n",
    "\n",
    "if __name__ == \"__main__\":\n",
    "    client = MongoClient(\"mongodb://localhost:27017\")\n",
    "    # First Create Database\n",
    "    db = client['airline_delayDB']\n",
    "    # Collection\n",
    "    collection = db['flights']\n",
    "    # Import dataframe to mongodb documents\n",
    "    mongoimport('Flights_Delay.csv')\n"
   ]
  },
  {
   "cell_type": "code",
   "execution_count": 98,
   "id": "24e76f56",
   "metadata": {},
   "outputs": [
    {
     "name": "stdout",
     "output_type": "stream",
     "text": [
      "\n",
      "#b) Average arrival delay caused by airlines: \n",
      "{'avgFlightDelay': 7.545457931394093}\n"
     ]
    }
   ],
   "source": [
    "  # b) Average arrival delay caused by airlines\n",
    "print('\\n#b) Average arrival delay caused by airlines: ')\n",
    "    \n",
    "avg_delay=collection.aggregate([{'$group':{'_id':{},'avgFlightDelay':\n",
    "                            {'$avg':'$ARRIVAL_DELAY'}}},{'$project':{'_id':0}}])\n",
    "for i in avg_delay:\n",
    "    print(i)"
   ]
  },
  {
   "cell_type": "code",
   "execution_count": 102,
   "id": "5ccfe6d0",
   "metadata": {},
   "outputs": [
    {
     "data": {
      "image/png": "[encoded data removed]",
      "text/plain": [
       "<Figure size 720x504 with 1 Axes>"
      ]
     },
     "metadata": {},
     "output_type": "display_data"
    }
   ],
   "source": [
    " #c) Days of months with respect to average of arrival delays.\n",
    "        \n",
    "avg_arrival_days = collection.aggregate([\n",
    "        {'$group':{'_id' : '$MONTH', 'Average_of_Arrival_Delays':{'$avg':'$ARRIVAL_DELAY'}}},\n",
    "        {'$sort' : {'MONTH':-1}}\n",
    "        ])\n",
    "\n",
    "avg_arrival_days_df=pd.DataFrame(avg_arrival_days)\n",
    "plt.style.use('seaborn-whitegrid')\n",
    "plt.figure(figsize=(10,7))\n",
    "sns.barplot(x=avg_arrival_days_df['_id'],y=avg_arrival_days_df['Average_of_Arrival_Delays'], \n",
    "            order=avg_arrival_days_df['_id'].sort_values(ascending = True))\n",
    "plt.xlabel('Month')\n",
    "plt.title('Days of months with respect to average of arrival delays')\n",
    "plt.show()"
   ]
  },
  {
   "cell_type": "code",
   "execution_count": 49,
   "id": "9484e7e3",
   "metadata": {},
   "outputs": [
    {
     "data": {
      "image/png": "[encoded data removed]",
      "text/plain": [
       "<Figure size 720x504 with 1 Axes>"
      ]
     },
     "metadata": {},
     "output_type": "display_data"
    }
   ],
   "source": [
    "   #d Arrange weekdays with respect to the average arrival days caused. \n",
    "  \n",
    "avg_arrival_weekdays=collection.aggregate ([\n",
    "        {'$group':{'_id' : '$DAY_OF_WEEK', 'Average_of_Arrival_Delays':{'$avg':'$ARRIVAL_DELAY'}}},\n",
    "        {'$sort' : {'Average_of_Arrival_Delays':-1}}\n",
    "        ])   \n",
    "\n",
    "avg_arrival_weekdays_df=pd.DataFrame(avg_arrival_weekdays)\n",
    "plt.style.use('seaborn-whitegrid')\n",
    "plt.figure(figsize = (10,7))\n",
    "sns.barplot(x=avg_arrival_weekdays_df['_id'],y=avg_arrival_weekdays_df['Average_of_Arrival_Delays'],order=avg_arrival_weekdays_df['_id'].sort_values(ascending = True) )\n",
    "plt.title('Average Arrival Delay for each Weekday')\n",
    "plt.xlabel('Weekdays')\n",
    "plt.show()"
   ]
  },
  {
   "cell_type": "code",
   "execution_count": 61,
   "id": "8122735a",
   "metadata": {},
   "outputs": [
    {
     "ename": "TypeError",
     "evalue": "unhashable type: 'dict'",
     "output_type": "error",
     "traceback": [
      "\u001b[1;31m---------------------------------------------------------------------------\u001b[0m",
      "\u001b[1;31mAttributeError\u001b[0m                            Traceback (most recent call last)",
      "\u001b[1;32mC:\\ProgramData\\Anaconda3\\lib\\site-packages\\seaborn\\_core.py\u001b[0m in \u001b[0;36mcategorical_order\u001b[1;34m(vector, order)\u001b[0m\n\u001b[0;32m   1478\u001b[0m             \u001b[1;32mtry\u001b[0m\u001b[1;33m:\u001b[0m\u001b[1;33m\u001b[0m\u001b[1;33m\u001b[0m\u001b[0m\n\u001b[1;32m-> 1479\u001b[1;33m                 \u001b[0morder\u001b[0m \u001b[1;33m=\u001b[0m \u001b[0mvector\u001b[0m\u001b[1;33m.\u001b[0m\u001b[0mcat\u001b[0m\u001b[1;33m.\u001b[0m\u001b[0mcategories\u001b[0m\u001b[1;33m\u001b[0m\u001b[1;33m\u001b[0m\u001b[0m\n\u001b[0m\u001b[0;32m   1480\u001b[0m             \u001b[1;32mexcept\u001b[0m \u001b[1;33m(\u001b[0m\u001b[0mTypeError\u001b[0m\u001b[1;33m,\u001b[0m \u001b[0mAttributeError\u001b[0m\u001b[1;33m)\u001b[0m\u001b[1;33m:\u001b[0m\u001b[1;33m\u001b[0m\u001b[1;33m\u001b[0m\u001b[0m\n",
      "\u001b[1;32mC:\\ProgramData\\Anaconda3\\lib\\site-packages\\pandas\\core\\generic.py\u001b[0m in \u001b[0;36m__getattr__\u001b[1;34m(self, name)\u001b[0m\n\u001b[0;32m   5486\u001b[0m             \u001b[1;32mreturn\u001b[0m \u001b[0mself\u001b[0m\u001b[1;33m[\u001b[0m\u001b[0mname\u001b[0m\u001b[1;33m]\u001b[0m\u001b[1;33m\u001b[0m\u001b[1;33m\u001b[0m\u001b[0m\n\u001b[1;32m-> 5487\u001b[1;33m         \u001b[1;32mreturn\u001b[0m \u001b[0mobject\u001b[0m\u001b[1;33m.\u001b[0m\u001b[0m__getattribute__\u001b[0m\u001b[1;33m(\u001b[0m\u001b[0mself\u001b[0m\u001b[1;33m,\u001b[0m \u001b[0mname\u001b[0m\u001b[1;33m)\u001b[0m\u001b[1;33m\u001b[0m\u001b[1;33m\u001b[0m\u001b[0m\n\u001b[0m\u001b[0;32m   5488\u001b[0m \u001b[1;33m\u001b[0m\u001b[0m\n",
      "\u001b[1;32mC:\\ProgramData\\Anaconda3\\lib\\site-packages\\pandas\\core\\accessor.py\u001b[0m in \u001b[0;36m__get__\u001b[1;34m(self, obj, cls)\u001b[0m\n\u001b[0;32m    180\u001b[0m             \u001b[1;32mreturn\u001b[0m \u001b[0mself\u001b[0m\u001b[1;33m.\u001b[0m\u001b[0m_accessor\u001b[0m\u001b[1;33m\u001b[0m\u001b[1;33m\u001b[0m\u001b[0m\n\u001b[1;32m--> 181\u001b[1;33m         \u001b[0maccessor_obj\u001b[0m \u001b[1;33m=\u001b[0m \u001b[0mself\u001b[0m\u001b[1;33m.\u001b[0m\u001b[0m_accessor\u001b[0m\u001b[1;33m(\u001b[0m\u001b[0mobj\u001b[0m\u001b[1;33m)\u001b[0m\u001b[1;33m\u001b[0m\u001b[1;33m\u001b[0m\u001b[0m\n\u001b[0m\u001b[0;32m    182\u001b[0m         \u001b[1;31m# Replace the property with the accessor object. Inspired by:\u001b[0m\u001b[1;33m\u001b[0m\u001b[1;33m\u001b[0m\u001b[0m\n",
      "\u001b[1;32mC:\\ProgramData\\Anaconda3\\lib\\site-packages\\pandas\\core\\arrays\\categorical.py\u001b[0m in \u001b[0;36m__init__\u001b[1;34m(self, data)\u001b[0m\n\u001b[0;32m   2600\u001b[0m     \u001b[1;32mdef\u001b[0m \u001b[0m__init__\u001b[0m\u001b[1;33m(\u001b[0m\u001b[0mself\u001b[0m\u001b[1;33m,\u001b[0m \u001b[0mdata\u001b[0m\u001b[1;33m)\u001b[0m\u001b[1;33m:\u001b[0m\u001b[1;33m\u001b[0m\u001b[1;33m\u001b[0m\u001b[0m\n\u001b[1;32m-> 2601\u001b[1;33m         \u001b[0mself\u001b[0m\u001b[1;33m.\u001b[0m\u001b[0m_validate\u001b[0m\u001b[1;33m(\u001b[0m\u001b[0mdata\u001b[0m\u001b[1;33m)\u001b[0m\u001b[1;33m\u001b[0m\u001b[1;33m\u001b[0m\u001b[0m\n\u001b[0m\u001b[0;32m   2602\u001b[0m         \u001b[0mself\u001b[0m\u001b[1;33m.\u001b[0m\u001b[0m_parent\u001b[0m \u001b[1;33m=\u001b[0m \u001b[0mdata\u001b[0m\u001b[1;33m.\u001b[0m\u001b[0mvalues\u001b[0m\u001b[1;33m\u001b[0m\u001b[1;33m\u001b[0m\u001b[0m\n",
      "\u001b[1;32mC:\\ProgramData\\Anaconda3\\lib\\site-packages\\pandas\\core\\arrays\\categorical.py\u001b[0m in \u001b[0;36m_validate\u001b[1;34m(data)\u001b[0m\n\u001b[0;32m   2609\u001b[0m         \u001b[1;32mif\u001b[0m \u001b[1;32mnot\u001b[0m \u001b[0mis_categorical_dtype\u001b[0m\u001b[1;33m(\u001b[0m\u001b[0mdata\u001b[0m\u001b[1;33m.\u001b[0m\u001b[0mdtype\u001b[0m\u001b[1;33m)\u001b[0m\u001b[1;33m:\u001b[0m\u001b[1;33m\u001b[0m\u001b[1;33m\u001b[0m\u001b[0m\n\u001b[1;32m-> 2610\u001b[1;33m             \u001b[1;32mraise\u001b[0m \u001b[0mAttributeError\u001b[0m\u001b[1;33m(\u001b[0m\u001b[1;34m\"Can only use .cat accessor with a 'category' dtype\"\u001b[0m\u001b[1;33m)\u001b[0m\u001b[1;33m\u001b[0m\u001b[1;33m\u001b[0m\u001b[0m\n\u001b[0m\u001b[0;32m   2611\u001b[0m \u001b[1;33m\u001b[0m\u001b[0m\n",
      "\u001b[1;31mAttributeError\u001b[0m: Can only use .cat accessor with a 'category' dtype",
      "\nDuring handling of the above exception, another exception occurred:\n",
      "\u001b[1;31mTypeError\u001b[0m                                 Traceback (most recent call last)",
      "\u001b[1;32m~\\AppData\\Local\\Temp/ipykernel_14392/249795075.py\u001b[0m in \u001b[0;36m<module>\u001b[1;34m\u001b[0m\n\u001b[0;32m      8\u001b[0m \u001b[0mplt\u001b[0m\u001b[1;33m.\u001b[0m\u001b[0mstyle\u001b[0m\u001b[1;33m.\u001b[0m\u001b[0muse\u001b[0m\u001b[1;33m(\u001b[0m\u001b[1;34m'seaborn-whitegrid'\u001b[0m\u001b[1;33m)\u001b[0m\u001b[1;33m\u001b[0m\u001b[1;33m\u001b[0m\u001b[0m\n\u001b[0;32m      9\u001b[0m \u001b[0mplt\u001b[0m\u001b[1;33m.\u001b[0m\u001b[0mfigure\u001b[0m\u001b[1;33m(\u001b[0m\u001b[0mfigsize\u001b[0m \u001b[1;33m=\u001b[0m \u001b[1;33m(\u001b[0m\u001b[1;36m10\u001b[0m\u001b[1;33m,\u001b[0m\u001b[1;36m7\u001b[0m\u001b[1;33m)\u001b[0m\u001b[1;33m)\u001b[0m\u001b[1;33m\u001b[0m\u001b[1;33m\u001b[0m\u001b[0m\n\u001b[1;32m---> 10\u001b[1;33m \u001b[0msns\u001b[0m\u001b[1;33m.\u001b[0m\u001b[0mbarplot\u001b[0m\u001b[1;33m(\u001b[0m\u001b[0mx\u001b[0m\u001b[1;33m=\u001b[0m\u001b[0mdays_per_cancellation_df\u001b[0m\u001b[1;33m[\u001b[0m\u001b[1;34m'_id'\u001b[0m\u001b[1;33m]\u001b[0m\u001b[1;33m,\u001b[0m\u001b[0my\u001b[0m\u001b[1;33m=\u001b[0m\u001b[0mdays_per_cancellation_df\u001b[0m\u001b[1;33m[\u001b[0m\u001b[1;34m'Count'\u001b[0m\u001b[1;33m]\u001b[0m\u001b[1;33m)\u001b[0m\u001b[1;31m#,order=days_per_cancellation_df['_id'].sort_values(ascending = True))\u001b[0m\u001b[1;33m\u001b[0m\u001b[1;33m\u001b[0m\u001b[0m\n\u001b[0m\u001b[0;32m     11\u001b[0m \u001b[0mplt\u001b[0m\u001b[1;33m.\u001b[0m\u001b[0mtitle\u001b[0m\u001b[1;33m(\u001b[0m\u001b[1;34m'Days of Month as per Cancellations in Descending Order'\u001b[0m\u001b[1;33m)\u001b[0m\u001b[1;33m\u001b[0m\u001b[1;33m\u001b[0m\u001b[0m\n\u001b[0;32m     12\u001b[0m \u001b[0mplt\u001b[0m\u001b[1;33m.\u001b[0m\u001b[0mxlabel\u001b[0m\u001b[1;33m(\u001b[0m\u001b[1;34m'Days of Month'\u001b[0m\u001b[1;33m)\u001b[0m\u001b[1;33m\u001b[0m\u001b[1;33m\u001b[0m\u001b[0m\n",
      "\u001b[1;32mC:\\ProgramData\\Anaconda3\\lib\\site-packages\\seaborn\\_decorators.py\u001b[0m in \u001b[0;36minner_f\u001b[1;34m(*args, **kwargs)\u001b[0m\n\u001b[0;32m     44\u001b[0m             )\n\u001b[0;32m     45\u001b[0m         \u001b[0mkwargs\u001b[0m\u001b[1;33m.\u001b[0m\u001b[0mupdate\u001b[0m\u001b[1;33m(\u001b[0m\u001b[1;33m{\u001b[0m\u001b[0mk\u001b[0m\u001b[1;33m:\u001b[0m \u001b[0marg\u001b[0m \u001b[1;32mfor\u001b[0m \u001b[0mk\u001b[0m\u001b[1;33m,\u001b[0m \u001b[0marg\u001b[0m \u001b[1;32min\u001b[0m \u001b[0mzip\u001b[0m\u001b[1;33m(\u001b[0m\u001b[0msig\u001b[0m\u001b[1;33m.\u001b[0m\u001b[0mparameters\u001b[0m\u001b[1;33m,\u001b[0m \u001b[0margs\u001b[0m\u001b[1;33m)\u001b[0m\u001b[1;33m}\u001b[0m\u001b[1;33m)\u001b[0m\u001b[1;33m\u001b[0m\u001b[1;33m\u001b[0m\u001b[0m\n\u001b[1;32m---> 46\u001b[1;33m         \u001b[1;32mreturn\u001b[0m \u001b[0mf\u001b[0m\u001b[1;33m(\u001b[0m\u001b[1;33m**\u001b[0m\u001b[0mkwargs\u001b[0m\u001b[1;33m)\u001b[0m\u001b[1;33m\u001b[0m\u001b[1;33m\u001b[0m\u001b[0m\n\u001b[0m\u001b[0;32m     47\u001b[0m     \u001b[1;32mreturn\u001b[0m \u001b[0minner_f\u001b[0m\u001b[1;33m\u001b[0m\u001b[1;33m\u001b[0m\u001b[0m\n\u001b[0;32m     48\u001b[0m \u001b[1;33m\u001b[0m\u001b[0m\n",
      "\u001b[1;32mC:\\ProgramData\\Anaconda3\\lib\\site-packages\\seaborn\\categorical.py\u001b[0m in \u001b[0;36mbarplot\u001b[1;34m(x, y, hue, data, order, hue_order, estimator, ci, n_boot, units, seed, orient, color, palette, saturation, errcolor, errwidth, capsize, dodge, ax, **kwargs)\u001b[0m\n\u001b[0;32m   3180\u001b[0m ):\n\u001b[0;32m   3181\u001b[0m \u001b[1;33m\u001b[0m\u001b[0m\n\u001b[1;32m-> 3182\u001b[1;33m     plotter = _BarPlotter(x, y, hue, data, order, hue_order,\n\u001b[0m\u001b[0;32m   3183\u001b[0m                           \u001b[0mestimator\u001b[0m\u001b[1;33m,\u001b[0m \u001b[0mci\u001b[0m\u001b[1;33m,\u001b[0m \u001b[0mn_boot\u001b[0m\u001b[1;33m,\u001b[0m \u001b[0munits\u001b[0m\u001b[1;33m,\u001b[0m \u001b[0mseed\u001b[0m\u001b[1;33m,\u001b[0m\u001b[1;33m\u001b[0m\u001b[1;33m\u001b[0m\u001b[0m\n\u001b[0;32m   3184\u001b[0m                           \u001b[0morient\u001b[0m\u001b[1;33m,\u001b[0m \u001b[0mcolor\u001b[0m\u001b[1;33m,\u001b[0m \u001b[0mpalette\u001b[0m\u001b[1;33m,\u001b[0m \u001b[0msaturation\u001b[0m\u001b[1;33m,\u001b[0m\u001b[1;33m\u001b[0m\u001b[1;33m\u001b[0m\u001b[0m\n",
      "\u001b[1;32mC:\\ProgramData\\Anaconda3\\lib\\site-packages\\seaborn\\categorical.py\u001b[0m in \u001b[0;36m__init__\u001b[1;34m(self, x, y, hue, data, order, hue_order, estimator, ci, n_boot, units, seed, orient, color, palette, saturation, errcolor, errwidth, capsize, dodge)\u001b[0m\n\u001b[0;32m   1582\u001b[0m                  errwidth, capsize, dodge):\n\u001b[0;32m   1583\u001b[0m         \u001b[1;34m\"\"\"Initialize the plotter.\"\"\"\u001b[0m\u001b[1;33m\u001b[0m\u001b[1;33m\u001b[0m\u001b[0m\n\u001b[1;32m-> 1584\u001b[1;33m         self.establish_variables(x, y, hue, data, orient,\n\u001b[0m\u001b[0;32m   1585\u001b[0m                                  order, hue_order, units)\n\u001b[0;32m   1586\u001b[0m         \u001b[0mself\u001b[0m\u001b[1;33m.\u001b[0m\u001b[0mestablish_colors\u001b[0m\u001b[1;33m(\u001b[0m\u001b[0mcolor\u001b[0m\u001b[1;33m,\u001b[0m \u001b[0mpalette\u001b[0m\u001b[1;33m,\u001b[0m \u001b[0msaturation\u001b[0m\u001b[1;33m)\u001b[0m\u001b[1;33m\u001b[0m\u001b[1;33m\u001b[0m\u001b[0m\n",
      "\u001b[1;32mC:\\ProgramData\\Anaconda3\\lib\\site-packages\\seaborn\\categorical.py\u001b[0m in \u001b[0;36mestablish_variables\u001b[1;34m(self, x, y, hue, data, orient, order, hue_order, units)\u001b[0m\n\u001b[0;32m    201\u001b[0m \u001b[1;33m\u001b[0m\u001b[0m\n\u001b[0;32m    202\u001b[0m                 \u001b[1;31m# Get the order on the categorical axis\u001b[0m\u001b[1;33m\u001b[0m\u001b[1;33m\u001b[0m\u001b[0m\n\u001b[1;32m--> 203\u001b[1;33m                 \u001b[0mgroup_names\u001b[0m \u001b[1;33m=\u001b[0m \u001b[0mcategorical_order\u001b[0m\u001b[1;33m(\u001b[0m\u001b[0mgroups\u001b[0m\u001b[1;33m,\u001b[0m \u001b[0morder\u001b[0m\u001b[1;33m)\u001b[0m\u001b[1;33m\u001b[0m\u001b[1;33m\u001b[0m\u001b[0m\n\u001b[0m\u001b[0;32m    204\u001b[0m \u001b[1;33m\u001b[0m\u001b[0m\n\u001b[0;32m    205\u001b[0m                 \u001b[1;31m# Group the numeric data\u001b[0m\u001b[1;33m\u001b[0m\u001b[1;33m\u001b[0m\u001b[0m\n",
      "\u001b[1;32mC:\\ProgramData\\Anaconda3\\lib\\site-packages\\seaborn\\_core.py\u001b[0m in \u001b[0;36mcategorical_order\u001b[1;34m(vector, order)\u001b[0m\n\u001b[0;32m   1481\u001b[0m \u001b[1;33m\u001b[0m\u001b[0m\n\u001b[0;32m   1482\u001b[0m                 \u001b[1;32mtry\u001b[0m\u001b[1;33m:\u001b[0m\u001b[1;33m\u001b[0m\u001b[1;33m\u001b[0m\u001b[0m\n\u001b[1;32m-> 1483\u001b[1;33m                     \u001b[0morder\u001b[0m \u001b[1;33m=\u001b[0m \u001b[0mvector\u001b[0m\u001b[1;33m.\u001b[0m\u001b[0munique\u001b[0m\u001b[1;33m(\u001b[0m\u001b[1;33m)\u001b[0m\u001b[1;33m\u001b[0m\u001b[1;33m\u001b[0m\u001b[0m\n\u001b[0m\u001b[0;32m   1484\u001b[0m                 \u001b[1;32mexcept\u001b[0m \u001b[0mAttributeError\u001b[0m\u001b[1;33m:\u001b[0m\u001b[1;33m\u001b[0m\u001b[1;33m\u001b[0m\u001b[0m\n\u001b[0;32m   1485\u001b[0m                     \u001b[0morder\u001b[0m \u001b[1;33m=\u001b[0m \u001b[0mpd\u001b[0m\u001b[1;33m.\u001b[0m\u001b[0munique\u001b[0m\u001b[1;33m(\u001b[0m\u001b[0mvector\u001b[0m\u001b[1;33m)\u001b[0m\u001b[1;33m\u001b[0m\u001b[1;33m\u001b[0m\u001b[0m\n",
      "\u001b[1;32mC:\\ProgramData\\Anaconda3\\lib\\site-packages\\pandas\\core\\series.py\u001b[0m in \u001b[0;36munique\u001b[1;34m(self)\u001b[0m\n\u001b[0;32m   2037\u001b[0m         \u001b[0mCategories\u001b[0m \u001b[1;33m(\u001b[0m\u001b[1;36m3\u001b[0m\u001b[1;33m,\u001b[0m \u001b[0mobject\u001b[0m\u001b[1;33m)\u001b[0m\u001b[1;33m:\u001b[0m \u001b[1;33m[\u001b[0m\u001b[1;34m'a'\u001b[0m \u001b[1;33m<\u001b[0m \u001b[1;34m'b'\u001b[0m \u001b[1;33m<\u001b[0m \u001b[1;34m'c'\u001b[0m\u001b[1;33m]\u001b[0m\u001b[1;33m\u001b[0m\u001b[1;33m\u001b[0m\u001b[0m\n\u001b[0;32m   2038\u001b[0m         \"\"\"\n\u001b[1;32m-> 2039\u001b[1;33m         \u001b[1;32mreturn\u001b[0m \u001b[0msuper\u001b[0m\u001b[1;33m(\u001b[0m\u001b[1;33m)\u001b[0m\u001b[1;33m.\u001b[0m\u001b[0munique\u001b[0m\u001b[1;33m(\u001b[0m\u001b[1;33m)\u001b[0m\u001b[1;33m\u001b[0m\u001b[1;33m\u001b[0m\u001b[0m\n\u001b[0m\u001b[0;32m   2040\u001b[0m \u001b[1;33m\u001b[0m\u001b[0m\n\u001b[0;32m   2041\u001b[0m     \u001b[1;33m@\u001b[0m\u001b[0moverload\u001b[0m\u001b[1;33m\u001b[0m\u001b[1;33m\u001b[0m\u001b[0m\n",
      "\u001b[1;32mC:\\ProgramData\\Anaconda3\\lib\\site-packages\\pandas\\core\\base.py\u001b[0m in \u001b[0;36munique\u001b[1;34m(self)\u001b[0m\n\u001b[0;32m    977\u001b[0m                     \u001b[0mresult\u001b[0m \u001b[1;33m=\u001b[0m \u001b[0mnp\u001b[0m\u001b[1;33m.\u001b[0m\u001b[0masarray\u001b[0m\u001b[1;33m(\u001b[0m\u001b[0mresult\u001b[0m\u001b[1;33m)\u001b[0m\u001b[1;33m\u001b[0m\u001b[1;33m\u001b[0m\u001b[0m\n\u001b[0;32m    978\u001b[0m         \u001b[1;32melse\u001b[0m\u001b[1;33m:\u001b[0m\u001b[1;33m\u001b[0m\u001b[1;33m\u001b[0m\u001b[0m\n\u001b[1;32m--> 979\u001b[1;33m             \u001b[0mresult\u001b[0m \u001b[1;33m=\u001b[0m \u001b[0munique1d\u001b[0m\u001b[1;33m(\u001b[0m\u001b[0mvalues\u001b[0m\u001b[1;33m)\u001b[0m\u001b[1;33m\u001b[0m\u001b[1;33m\u001b[0m\u001b[0m\n\u001b[0m\u001b[0;32m    980\u001b[0m \u001b[1;33m\u001b[0m\u001b[0m\n\u001b[0;32m    981\u001b[0m         \u001b[1;32mreturn\u001b[0m \u001b[0mresult\u001b[0m\u001b[1;33m\u001b[0m\u001b[1;33m\u001b[0m\u001b[0m\n",
      "\u001b[1;32mC:\\ProgramData\\Anaconda3\\lib\\site-packages\\pandas\\core\\algorithms.py\u001b[0m in \u001b[0;36munique\u001b[1;34m(values)\u001b[0m\n\u001b[0;32m    429\u001b[0m \u001b[1;33m\u001b[0m\u001b[0m\n\u001b[0;32m    430\u001b[0m     \u001b[0mtable\u001b[0m \u001b[1;33m=\u001b[0m \u001b[0mhtable\u001b[0m\u001b[1;33m(\u001b[0m\u001b[0mlen\u001b[0m\u001b[1;33m(\u001b[0m\u001b[0mvalues\u001b[0m\u001b[1;33m)\u001b[0m\u001b[1;33m)\u001b[0m\u001b[1;33m\u001b[0m\u001b[1;33m\u001b[0m\u001b[0m\n\u001b[1;32m--> 431\u001b[1;33m     \u001b[0muniques\u001b[0m \u001b[1;33m=\u001b[0m \u001b[0mtable\u001b[0m\u001b[1;33m.\u001b[0m\u001b[0munique\u001b[0m\u001b[1;33m(\u001b[0m\u001b[0mvalues\u001b[0m\u001b[1;33m)\u001b[0m\u001b[1;33m\u001b[0m\u001b[1;33m\u001b[0m\u001b[0m\n\u001b[0m\u001b[0;32m    432\u001b[0m     \u001b[0muniques\u001b[0m \u001b[1;33m=\u001b[0m \u001b[0m_reconstruct_data\u001b[0m\u001b[1;33m(\u001b[0m\u001b[0muniques\u001b[0m\u001b[1;33m,\u001b[0m \u001b[0moriginal\u001b[0m\u001b[1;33m.\u001b[0m\u001b[0mdtype\u001b[0m\u001b[1;33m,\u001b[0m \u001b[0moriginal\u001b[0m\u001b[1;33m)\u001b[0m\u001b[1;33m\u001b[0m\u001b[1;33m\u001b[0m\u001b[0m\n\u001b[0;32m    433\u001b[0m     \u001b[1;32mreturn\u001b[0m \u001b[0muniques\u001b[0m\u001b[1;33m\u001b[0m\u001b[1;33m\u001b[0m\u001b[0m\n",
      "\u001b[1;32mpandas\\_libs\\hashtable_class_helper.pxi\u001b[0m in \u001b[0;36mpandas._libs.hashtable.PyObjectHashTable.unique\u001b[1;34m()\u001b[0m\n",
      "\u001b[1;32mpandas\\_libs\\hashtable_class_helper.pxi\u001b[0m in \u001b[0;36mpandas._libs.hashtable.PyObjectHashTable._unique\u001b[1;34m()\u001b[0m\n",
      "\u001b[1;31mTypeError\u001b[0m: unhashable type: 'dict'"
     ]
    },
    {
     "data": {
      "text/plain": [
       "<Figure size 720x504 with 0 Axes>"
      ]
     },
     "metadata": {},
     "output_type": "display_data"
    }
   ],
   "source": [
    "    #e) Arrange Days of month as per cancellations done in descending order.  \n",
    " \n",
    "\n",
    "days_per_cancellation = collection.aggregate([{'$match' : {'CANCELLED':1}},{'$group':{'_id' :{'Month':'$MONTH','Count':'$Count'}, 'Count':{'$sum':1}}},\n",
    "                                     {'$sort':{'Count': -1}}])\n",
    "    \n",
    "days_per_cancellation_df=pd.DataFrame(days_per_cancellation)\n",
    "plt.style.use('seaborn-whitegrid')\n",
    "plt.figure(figsize = (10,7))\n",
    "sns.barplot(x=days_per_cancellation_df['_id'],y=days_per_cancellation_df['Count'])#,order=days_per_cancellation_df['_id'].sort_values(ascending = True))\n",
    "plt.title('Days of Month as per Cancellations in Descending Order')\n",
    "plt.xlabel('Days of Month')\n",
    "plt.show()\n",
    "    "
   ]
  },
  {
   "cell_type": "code",
   "execution_count": 75,
   "id": "ed6fb6bf",
   "metadata": {},
   "outputs": [
    {
     "ename": "SyntaxError",
     "evalue": "invalid syntax (Temp/ipykernel_14392/3431540048.py, line 8)",
     "output_type": "error",
     "traceback": [
      "\u001b[1;36m  File \u001b[1;32m\"C:\\Users\\ssiddi1x\\AppData\\Local\\Temp/ipykernel_14392/3431540048.py\"\u001b[1;36m, line \u001b[1;32m8\u001b[0m\n\u001b[1;33m    {'$group':{'_id':'Destination':'$DESTINATION_AIRPORT','No_of_Day_ofWeek':'$DAY_OF_WEEK','count':{'$count':{}}}},\u001b[0m\n\u001b[1;37m                                  ^\u001b[0m\n\u001b[1;31mSyntaxError\u001b[0m\u001b[1;31m:\u001b[0m invalid syntax\n"
     ]
    }
   ],
   "source": [
    " #f) Find the busiest airports with respect to day of week. Create a suitable plot using matplotlib/seaborn.\n",
    "'''\n",
    "arrival_airport_count=collection.aggregate([{'$group':{'_id':'$DAY_OF_WEEK'\n",
    "                                              ,'count':{'$count':{}}}},\n",
    "                                            {'$sort':{'DESTINATION_AIRPORT': -1}}])\n",
    "'''\n",
    "arrival_airport_count=collection.aggregate([\n",
    "                                            {'$group':{'_id':'Destination':'$DESTINATION_AIRPORT','No_of_Day_ofWeek':'$DAY_OF_WEEK','count':{'$count':{}}}},\n",
    "                                            #{'$sort':{'DESTINATION_AIRPORT': 1}}\n",
    "                                        ])\n",
    "\n",
    "\n",
    "arrival_airport_count_df=pd.DataFrame(arrival_airport_count)\n",
    "    \n",
    "#dict1=arrival_airport_count_df.to_dict()\n",
    "print(arrival_airport_count_df)#['count'].sort_values(ascending = False))\n",
    "\n",
    "\n",
    "arrival_airport_count_df=pd.DataFrame(arrival_airport_count)\n",
    "#avg_arrival_weekdays_df=pd.DataFrame(avg_arrival_weekdays)\n",
    "plt.style.use('seaborn-whitegrid')\n",
    "plt.figure(figsize = (10,7))\n",
    "sns.barplot(x=arrival_airport_count_df['_id'],y=arrival_airport_count_df['count'],order=arrival_airport_count_df['_id'].value_counts().index )\n",
    "plt.title('Average Arrival Delay for each Weekday')\n",
    "plt.xlabel('Weekdays')\n",
    "plt.show()"
   ]
  },
  {
   "cell_type": "code",
   "execution_count": 94,
   "id": "d0f0e165",
   "metadata": {},
   "outputs": [
    {
     "data": {
      "image/png": "[encoded data removed]",
      "text/plain": [
       "<Figure size 720x504 with 1 Axes>"
      ]
     },
     "metadata": {},
     "output_type": "display_data"
    }
   ],
   "source": [
    "    #g Find top 10 Airlines of US. Create a suitable plot using matplotlib/seaborn.\n",
    " \n",
    "top_US_airlines = collection.aggregate([{ '$match':{'AIRLINE':\"US\"}},\n",
    "                                        {'$group' :{'_id' : '$FLIGHT_NUMBER', 'Airline_Count':{'$count' : {}}}},\n",
    "                                            {'$sort':{'Airline_Count':-1}},\n",
    "                                            {'$limit':10}])\n",
    "    \n",
    "airline_df=pd.DataFrame(top_US_airlines)\n",
    "plt.style.use('seaborn-whitegrid')\n",
    "plt.figure(figsize = (10,7))\n",
    "sns.barplot(x=airline_df['_id'],y=airline_df['Airline_Count'])\n",
    "plt.title('The Top 10 Airlines of US')\n",
    "plt.xlabel('Flight Number')\n",
    "plt.show()"
   ]
  },
  {
   "cell_type": "code",
   "execution_count": 78,
   "id": "4e4706c6",
   "metadata": {},
   "outputs": [
    {
     "name": "stdout",
     "output_type": "stream",
     "text": [
      "{'_id': 'HA', 'min_no_of_cancellations': 114}\n",
      "{'_id': 'MQ', 'max_no_of_cancellations': 15732}\n"
     ]
    }
   ],
   "source": [
    "#h) Finding airlines that make the maximum, minimum number of cancellations.\n",
    "    \n",
    "min_cancellation = collection.aggregate([{'$match' : {'CANCELLED':1}},\n",
    "                                   {'$group':{'_id':'$AIRLINE',\n",
    "                                    'min_no_of_cancellations':{'$count':{}}}},\n",
    "                                   {'$sort':{'min_no_of_cancellations': 1}}, {'$limit':1}\n",
    "                                         ])\n",
    "    \n",
    "max_cancellation = collection.aggregate([{'$match' : {'CANCELLED':1}},\n",
    "                                   {'$group':{'_id':'$AIRLINE',\n",
    "                                  'max_no_of_cancellations':{'$count':{}}}},\n",
    "                                  {'$sort':{'max_no_of_cancellations': -1}}, {'$limit':1}\n",
    "                                        ])\n",
    "for i in min_cancellation:\n",
    "        print(i)\n",
    "for i in max_cancellation:\n",
    "        print(i)"
   ]
  },
  {
   "cell_type": "code",
   "execution_count": 82,
   "id": "d39bca89",
   "metadata": {},
   "outputs": [
    {
     "data": {
      "image/png": "[encoded data removed]",
      "text/plain": [
       "<Figure size 720x504 with 1 Axes>"
      ]
     },
     "metadata": {},
     "output_type": "display_data"
    }
   ],
   "source": [
    "   # i) Find and show airlines names in descending that make the most number of diversions made.\n",
    "     \n",
    "airline_diversions = collection.aggregate([{'$match' : {'DIVERTED':1}},\n",
    "                                    {'$group':{'_id':'$AIRLINE',\n",
    "                                 'No_of_Diversions':{'$count':{}}}},\n",
    "                                {'$sort':{'No_of_Diversions': -1}}])\n",
    "    \n",
    "    \n",
    "airline_diversion_df=pd.DataFrame(airline_diversions)\n",
    "plt.style.use('seaborn-whitegrid')\n",
    "plt.figure(figsize = (10,7))\n",
    "sns.barplot(x=airline_diversion_df['_id'],y=airline_diversion_df['No_of_Diversions'])\n",
    "plt.title('Airlines that makes the most no of diversions')\n",
    "plt.xlabel('Airlines')\n",
    "plt.show()"
   ]
  },
  {
   "cell_type": "code",
   "execution_count": 83,
   "id": "686903f9",
   "metadata": {},
   "outputs": [
    {
     "name": "stdout",
     "output_type": "stream",
     "text": [
      "{'_id': 2, 'No_of_Diversions': 570}\n"
     ]
    }
   ],
   "source": [
    "    #j) Finding days of month that see the most number of diversion\n",
    "no_of_diversions = collection.aggregate([{'$match' : {'DIVERTED':1}},\n",
    "                                     {'$group':{'_id':'$DAY',\n",
    "                                     'No_of_Diversions':{'$count':{}}}},\n",
    "                                     {'$sort':{'No_of_Diversions': -1}},{'$limit':1}\n",
    "                                           ]) \n",
    "for i in no_of_diversions:\n",
    "         print(i)"
   ]
  },
  {
   "cell_type": "code",
   "execution_count": 84,
   "id": "102c8bf0",
   "metadata": {},
   "outputs": [
    {
     "name": "stdout",
     "output_type": "stream",
     "text": [
      "Mean: DEPARTURE_DELAY    11.329091\n",
      "dtype: float64\n",
      "Standard Deviation: DEPARTURE_DELAY    39.620558\n",
      "dtype: float64\n"
     ]
    }
   ],
   "source": [
    "    #k) Calculating mean and standard deviation of departure delay for all flights in minutes\n",
    "departure_delay = collection.find({},{'DEPARTURE_DELAY':1,'_id':0})\n",
    "    \n",
    "departure_delay_df=pd.DataFrame(departure_delay)\n",
    "print(\"Mean:\",departure_delay_df.mean())\n",
    "print(\"Standard Deviation:\",departure_delay_df.std())"
   ]
  },
  {
   "cell_type": "code",
   "execution_count": 85,
   "id": "37c2a04a",
   "metadata": {},
   "outputs": [
    {
     "name": "stdout",
     "output_type": "stream",
     "text": [
      "Mean: ARRIVAL_DELAY    7.545458\n",
      "dtype: float64\n",
      "Standard Deviation: ARRIVAL_DELAY    42.378002\n",
      "dtype: float64\n"
     ]
    }
   ],
   "source": [
    "#l) Calculating mean and standard deviation of arrival delay for all flights in minutes\n",
    "arrival_delay = collection.find({},{'ARRIVAL_DELAY':1,'_id':0})\n",
    "    \n",
    "arrival_delay_df=pd.DataFrame(arrival_delay)\n",
    "print(\"Mean:\",arrival_delay_df.mean())\n",
    "print(\"Standard Deviation:\",arrival_delay_df.std())"
   ]
  },
  {
   "cell_type": "code",
   "execution_count": 89,
   "id": "211a0100",
   "metadata": {},
   "outputs": [],
   "source": [
    "  #m)\tCreate a partitioning table “flights_partition” using partitioned by schema “CANCELLED”\n"
   ]
  },
  {
   "cell_type": "code",
   "execution_count": 92,
   "id": "40fe886b",
   "metadata": {},
   "outputs": [
    {
     "name": "stdout",
     "output_type": "stream",
     "text": [
      "0    {'ORIGIN_AIRPORT': 'IAH', 'DESTINATION_AIRPORT...\n",
      "1    {'ORIGIN_AIRPORT': 'HOU', 'DESTINATION_AIRPORT...\n",
      "2    {'ORIGIN_AIRPORT': 'TPA', 'DESTINATION_AIRPORT...\n",
      "3    {'ORIGIN_AIRPORT': 'STT', 'DESTINATION_AIRPORT...\n",
      "4    {'ORIGIN_AIRPORT': 'ORD', 'DESTINATION_AIRPORT...\n",
      "5    {'ORIGIN_AIRPORT': 'JFK', 'DESTINATION_AIRPORT...\n",
      "6    {'ORIGIN_AIRPORT': 'CLT', 'DESTINATION_AIRPORT...\n",
      "7    {'ORIGIN_AIRPORT': 'PHL', 'DESTINATION_AIRPORT...\n",
      "8    {'ORIGIN_AIRPORT': 'JFK', 'DESTINATION_AIRPORT...\n",
      "Name: _id, dtype: object\n"
     ]
    }
   ],
   "source": [
    "#n) Finding all diverted Route from a source to destination Airport & which route is the most diverted route.\n",
    "no_of_diversions=collection.aggregate([{'$match':{'DIVERTED':1}},\n",
    "                                    {'$group' :{'_id' : {'ORIGIN_AIRPORT':'$ORIGIN_AIRPORT',\"DESTINATION_AIRPORT\":'$DESTINATION_AIRPORT'},\n",
    "                                               'Most_Deversions_Count':{'$sum':1}}},\n",
    "                                    {'$sort':{'Most_Deversions_Count':-1}}                    ])\n",
    "no_of_diversions_df=pd.DataFrame(no_of_diversions)\n",
    "diversions_max=no_of_diversions_df.get('Most_Deversions_Count').max()\n",
    "    \n",
    "print(no_of_diversions_df[no_of_diversions_df['Most_Deversions_Count']==diversions_max]['_id'])"
   ]
  },
  {
   "cell_type": "code",
   "execution_count": 88,
   "id": "54443adb",
   "metadata": {},
   "outputs": [
    {
     "name": "stdout",
     "output_type": "stream",
     "text": [
      "{'_id': ObjectId('6368aa09710601f7a6b9df2c'), 'total': -76.0}\n"
     ]
    }
   ],
   "source": [
    "#o) When is the best time of day/day of week/time of year to fly with minimum delay\n",
    "total_delay=collection.aggregate([{'$group':{'_id':'$_id','total':{'$sum':'$ARRIVAL_DELAY'}}},{'$sort': {'total':1}},\n",
    "                                  {'$limit':1}])\n",
    "for i in total_delay:\n",
    " print(i)"
   ]
  }
 ],
 "metadata": {
  "kernelspec": {
   "display_name": "Python 3 (ipykernel)",
   "language": "python",
   "name": "python3"
  },
  "language_info": {
   "codemirror_mode": {
    "name": "ipython",
    "version": 3
   },
   "file_extension": ".py",
   "mimetype": "text/x-python",
   "name": "python",
   "nbconvert_exporter": "python",
   "pygments_lexer": "ipython3",
   "version": "3.9.7"
  }
 },
 "nbformat": 4,
 "nbformat_minor": 5
}
